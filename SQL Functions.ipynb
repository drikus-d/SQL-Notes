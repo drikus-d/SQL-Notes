{
 "cells": [
  {
   "cell_type": "markdown",
   "id": "c4a65812-00a2-4ba2-9095-ed85322d7f70",
   "metadata": {},
   "source": [
    "# SQL FUNCTIONS\n"
   ]
  },
  {
   "cell_type": "markdown",
   "id": "9ad01715-72eb-416b-af4d-911d954b28c1",
   "metadata": {},
   "source": [
    "Here’s an [ER (Entity Relationship) diagram](https://www.lucidchart.com/pages/er-diagrams) of the chinook database:\n",
    "\n",
    "![Chinook ERD](https://github.com/Explore-AI/Pictures/blob/master/sqlite-sample-database-color.jpg?raw=true)\n",
    "\n",
    "_[Image source](https://www.sqlitetutorial.net/sqlite-sample-database/)_"
   ]
  },
  {
   "cell_type": "markdown",
   "id": "985eb7c5-d316-4fef-a86f-83c06785ea2e",
   "metadata": {},
   "source": [
    "## Important\n",
    "#### Run these commands to get SQL working in jupyter lab"
   ]
  },
  {
   "cell_type": "code",
   "execution_count": 2,
   "id": "49df609b-34c2-495f-9c2a-c3df806731f5",
   "metadata": {},
   "outputs": [],
   "source": [
    "#load sql magics\n",
    "%load_ext sql"
   ]
  },
  {
   "cell_type": "code",
   "execution_count": 3,
   "id": "75019a9a-c9b2-4b34-9aae-71af5b01bab3",
   "metadata": {},
   "outputs": [
    {
     "data": {
      "text/plain": [
       "'Connected: @chinook.db'"
      ]
     },
     "execution_count": 3,
     "metadata": {},
     "output_type": "execute_result"
    }
   ],
   "source": [
    "#load chinook database\n",
    "%sql sqlite:///chinook.db"
   ]
  },
  {
   "cell_type": "markdown",
   "id": "6e34f2f0-9850-4dfe-a139-20c88706762e",
   "metadata": {},
   "source": [
    "## Basic Sql "
   ]
  },
  {
   "cell_type": "code",
   "execution_count": 26,
   "id": "191998bd-09e1-465c-a319-dad42acef3f0",
   "metadata": {},
   "outputs": [
    {
     "name": "stdout",
     "output_type": "stream",
     "text": [
      " * sqlite:///chinook.db\n",
      "Done.\n"
     ]
    },
    {
     "data": {
      "text/html": [
       "<table>\n",
       "    <thead>\n",
       "        <tr>\n",
       "            <th>CustomerId</th>\n",
       "            <th>FirstName</th>\n",
       "            <th>LastName</th>\n",
       "            <th>Company</th>\n",
       "            <th>Address</th>\n",
       "            <th>City</th>\n",
       "            <th>State</th>\n",
       "            <th>Country</th>\n",
       "            <th>PostalCode</th>\n",
       "            <th>Phone</th>\n",
       "            <th>Fax</th>\n",
       "            <th>Email</th>\n",
       "            <th>SupportRepId</th>\n",
       "        </tr>\n",
       "    </thead>\n",
       "    <tbody>\n",
       "        <tr>\n",
       "            <td>1</td>\n",
       "            <td>Luís</td>\n",
       "            <td>Gonçalves</td>\n",
       "            <td>Embraer - Empresa Brasileira de Aeronáutica S.A.</td>\n",
       "            <td>Av. Brigadeiro Faria Lima, 2170</td>\n",
       "            <td>São José dos Campos</td>\n",
       "            <td>SP</td>\n",
       "            <td>Brazil</td>\n",
       "            <td>12227-000</td>\n",
       "            <td>+55 (12) 3923-5555</td>\n",
       "            <td>+55 (12) 3923-5566</td>\n",
       "            <td>luisg@embraer.com.br</td>\n",
       "            <td>3</td>\n",
       "        </tr>\n",
       "        <tr>\n",
       "            <td>2</td>\n",
       "            <td>Leonie</td>\n",
       "            <td>Köhler</td>\n",
       "            <td>None</td>\n",
       "            <td>Theodor-Heuss-Straße 34</td>\n",
       "            <td>Stuttgart</td>\n",
       "            <td>None</td>\n",
       "            <td>Germany</td>\n",
       "            <td>70174</td>\n",
       "            <td>+49 0711 2842222</td>\n",
       "            <td>None</td>\n",
       "            <td>leonekohler@surfeu.de</td>\n",
       "            <td>5</td>\n",
       "        </tr>\n",
       "        <tr>\n",
       "            <td>3</td>\n",
       "            <td>François</td>\n",
       "            <td>Tremblay</td>\n",
       "            <td>None</td>\n",
       "            <td>1498 rue Bélanger</td>\n",
       "            <td>Montréal</td>\n",
       "            <td>QC</td>\n",
       "            <td>Canada</td>\n",
       "            <td>H2G 1A7</td>\n",
       "            <td>+1 (514) 721-4711</td>\n",
       "            <td>None</td>\n",
       "            <td>ftremblay@gmail.com</td>\n",
       "            <td>3</td>\n",
       "        </tr>\n",
       "        <tr>\n",
       "            <td>4</td>\n",
       "            <td>Bjørn</td>\n",
       "            <td>Hansen</td>\n",
       "            <td>None</td>\n",
       "            <td>Ullevålsveien 14</td>\n",
       "            <td>Oslo</td>\n",
       "            <td>None</td>\n",
       "            <td>Norway</td>\n",
       "            <td>0171</td>\n",
       "            <td>+47 22 44 22 22</td>\n",
       "            <td>None</td>\n",
       "            <td>bjorn.hansen@yahoo.no</td>\n",
       "            <td>4</td>\n",
       "        </tr>\n",
       "        <tr>\n",
       "            <td>5</td>\n",
       "            <td>František</td>\n",
       "            <td>Wichterlová</td>\n",
       "            <td>JetBrains s.r.o.</td>\n",
       "            <td>Klanova 9/506</td>\n",
       "            <td>Prague</td>\n",
       "            <td>None</td>\n",
       "            <td>Czech Republic</td>\n",
       "            <td>14700</td>\n",
       "            <td>+420 2 4172 5555</td>\n",
       "            <td>+420 2 4172 5555</td>\n",
       "            <td>frantisekw@jetbrains.com</td>\n",
       "            <td>4</td>\n",
       "        </tr>\n",
       "    </tbody>\n",
       "</table>"
      ],
      "text/plain": [
       "[(1, 'Luís', 'Gonçalves', 'Embraer - Empresa Brasileira de Aeronáutica S.A.', 'Av. Brigadeiro Faria Lima, 2170', 'São José dos Campos', 'SP', 'Brazil', '12227-000', '+55 (12) 3923-5555', '+55 (12) 3923-5566', 'luisg@embraer.com.br', 3),\n",
       " (2, 'Leonie', 'Köhler', None, 'Theodor-Heuss-Straße 34', 'Stuttgart', None, 'Germany', '70174', '+49 0711 2842222', None, 'leonekohler@surfeu.de', 5),\n",
       " (3, 'François', 'Tremblay', None, '1498 rue Bélanger', 'Montréal', 'QC', 'Canada', 'H2G 1A7', '+1 (514) 721-4711', None, 'ftremblay@gmail.com', 3),\n",
       " (4, 'Bjørn', 'Hansen', None, 'Ullevålsveien 14', 'Oslo', None, 'Norway', '0171', '+47 22 44 22 22', None, 'bjorn.hansen@yahoo.no', 4),\n",
       " (5, 'František', 'Wichterlová', 'JetBrains s.r.o.', 'Klanova 9/506', 'Prague', None, 'Czech Republic', '14700', '+420 2 4172 5555', '+420 2 4172 5555', 'frantisekw@jetbrains.com', 4)]"
      ]
     },
     "execution_count": 26,
     "metadata": {},
     "output_type": "execute_result"
    }
   ],
   "source": [
    "%%sql\n",
    "\n",
    "select * \n",
    "from customers\n",
    "limit 5;"
   ]
  },
  {
   "cell_type": "code",
   "execution_count": 35,
   "id": "132333b1-9081-4652-ad34-b4b8a29a3d31",
   "metadata": {},
   "outputs": [
    {
     "name": "stdout",
     "output_type": "stream",
     "text": [
      " * sqlite:///chinook.db\n",
      "Done.\n"
     ]
    },
    {
     "data": {
      "text/html": [
       "<table>\n",
       "    <thead>\n",
       "        <tr>\n",
       "            <th>TrackId</th>\n",
       "            <th>Name</th>\n",
       "            <th>AlbumId</th>\n",
       "            <th>MediaTypeId</th>\n",
       "            <th>GenreId</th>\n",
       "            <th>Composer</th>\n",
       "            <th>Milliseconds</th>\n",
       "            <th>Bytes</th>\n",
       "            <th>UnitPrice</th>\n",
       "        </tr>\n",
       "    </thead>\n",
       "    <tbody>\n",
       "        <tr>\n",
       "            <td>1</td>\n",
       "            <td>For Those About To Rock (We Salute You)</td>\n",
       "            <td>1</td>\n",
       "            <td>1</td>\n",
       "            <td>1</td>\n",
       "            <td>Angus Young, Malcolm Young, Brian Johnson</td>\n",
       "            <td>343719</td>\n",
       "            <td>11170334</td>\n",
       "            <td>0.99</td>\n",
       "        </tr>\n",
       "        <tr>\n",
       "            <td>2</td>\n",
       "            <td>Balls to the Wall</td>\n",
       "            <td>2</td>\n",
       "            <td>2</td>\n",
       "            <td>1</td>\n",
       "            <td>None</td>\n",
       "            <td>342562</td>\n",
       "            <td>5510424</td>\n",
       "            <td>0.99</td>\n",
       "        </tr>\n",
       "        <tr>\n",
       "            <td>3</td>\n",
       "            <td>Fast As a Shark</td>\n",
       "            <td>3</td>\n",
       "            <td>2</td>\n",
       "            <td>1</td>\n",
       "            <td>F. Baltes, S. Kaufman, U. Dirkscneider &amp; W. Hoffman</td>\n",
       "            <td>230619</td>\n",
       "            <td>3990994</td>\n",
       "            <td>0.99</td>\n",
       "        </tr>\n",
       "        <tr>\n",
       "            <td>4</td>\n",
       "            <td>Restless and Wild</td>\n",
       "            <td>3</td>\n",
       "            <td>2</td>\n",
       "            <td>1</td>\n",
       "            <td>F. Baltes, R.A. Smith-Diesel, S. Kaufman, U. Dirkscneider &amp; W. Hoffman</td>\n",
       "            <td>252051</td>\n",
       "            <td>4331779</td>\n",
       "            <td>0.99</td>\n",
       "        </tr>\n",
       "        <tr>\n",
       "            <td>5</td>\n",
       "            <td>Princess of the Dawn</td>\n",
       "            <td>3</td>\n",
       "            <td>2</td>\n",
       "            <td>1</td>\n",
       "            <td>Deaffy &amp; R.A. Smith-Diesel</td>\n",
       "            <td>375418</td>\n",
       "            <td>6290521</td>\n",
       "            <td>0.99</td>\n",
       "        </tr>\n",
       "    </tbody>\n",
       "</table>"
      ],
      "text/plain": [
       "[(1, 'For Those About To Rock (We Salute You)', 1, 1, 1, 'Angus Young, Malcolm Young, Brian Johnson', 343719, 11170334, 0.99),\n",
       " (2, 'Balls to the Wall', 2, 2, 1, None, 342562, 5510424, 0.99),\n",
       " (3, 'Fast As a Shark', 3, 2, 1, 'F. Baltes, S. Kaufman, U. Dirkscneider & W. Hoffman', 230619, 3990994, 0.99),\n",
       " (4, 'Restless and Wild', 3, 2, 1, 'F. Baltes, R.A. Smith-Diesel, S. Kaufman, U. Dirkscneider & W. Hoffman', 252051, 4331779, 0.99),\n",
       " (5, 'Princess of the Dawn', 3, 2, 1, 'Deaffy & R.A. Smith-Diesel', 375418, 6290521, 0.99)]"
      ]
     },
     "execution_count": 35,
     "metadata": {},
     "output_type": "execute_result"
    }
   ],
   "source": [
    "%%sql\n",
    "select * \n",
    "from tracks\n",
    "limit 5"
   ]
  },
  {
   "cell_type": "markdown",
   "id": "9126e00c-4f4c-467b-9a2e-a51d652a998c",
   "metadata": {},
   "source": [
    "## Distinct\n",
    " - returns all unique values from a coloumn\n",
    " - usefull for knowing which artists are represented in a table"
   ]
  },
  {
   "cell_type": "code",
   "execution_count": 9,
   "id": "563e71f7-115f-41bc-b4de-281460e30de6",
   "metadata": {},
   "outputs": [
    {
     "name": "stdout",
     "output_type": "stream",
     "text": [
      " * sqlite:///chinook.db\n",
      "Done.\n"
     ]
    },
    {
     "data": {
      "text/html": [
       "<table>\n",
       "    <thead>\n",
       "        <tr>\n",
       "            <th>Composer</th>\n",
       "        </tr>\n",
       "    </thead>\n",
       "    <tbody>\n",
       "        <tr>\n",
       "            <td>Angus Young, Malcolm Young, Brian Johnson</td>\n",
       "        </tr>\n",
       "        <tr>\n",
       "            <td>None</td>\n",
       "        </tr>\n",
       "        <tr>\n",
       "            <td>F. Baltes, S. Kaufman, U. Dirkscneider &amp; W. Hoffman</td>\n",
       "        </tr>\n",
       "        <tr>\n",
       "            <td>F. Baltes, R.A. Smith-Diesel, S. Kaufman, U. Dirkscneider &amp; W. Hoffman</td>\n",
       "        </tr>\n",
       "        <tr>\n",
       "            <td>Deaffy &amp; R.A. Smith-Diesel</td>\n",
       "        </tr>\n",
       "    </tbody>\n",
       "</table>"
      ],
      "text/plain": [
       "[('Angus Young, Malcolm Young, Brian Johnson',),\n",
       " (None,),\n",
       " ('F. Baltes, S. Kaufman, U. Dirkscneider & W. Hoffman',),\n",
       " ('F. Baltes, R.A. Smith-Diesel, S. Kaufman, U. Dirkscneider & W. Hoffman',),\n",
       " ('Deaffy & R.A. Smith-Diesel',)]"
      ]
     },
     "execution_count": 9,
     "metadata": {},
     "output_type": "execute_result"
    }
   ],
   "source": [
    "%%sql\n",
    "\n",
    "SELECT DISTINCT composer\n",
    "FROM tracks \n",
    "limit 5"
   ]
  },
  {
   "cell_type": "markdown",
   "id": "12fe86ba-9a7d-481e-9761-834f728a5d8c",
   "metadata": {},
   "source": [
    "## Count\n",
    "- Counts the number of entries in a coloumn"
   ]
  },
  {
   "cell_type": "code",
   "execution_count": 10,
   "id": "62357049-487a-4750-83e0-ac86d3055628",
   "metadata": {},
   "outputs": [
    {
     "name": "stdout",
     "output_type": "stream",
     "text": [
      " * sqlite:///chinook.db\n",
      "Done.\n"
     ]
    },
    {
     "data": {
      "text/html": [
       "<table>\n",
       "    <thead>\n",
       "        <tr>\n",
       "            <th>COUNT(composer)</th>\n",
       "        </tr>\n",
       "    </thead>\n",
       "    <tbody>\n",
       "        <tr>\n",
       "            <td>2525</td>\n",
       "        </tr>\n",
       "    </tbody>\n",
       "</table>"
      ],
      "text/plain": [
       "[(2525,)]"
      ]
     },
     "execution_count": 10,
     "metadata": {},
     "output_type": "execute_result"
    }
   ],
   "source": [
    "%%sql\n",
    "\n",
    "SELECT COUNT(composer)\n",
    "from tracks\n"
   ]
  },
  {
   "cell_type": "markdown",
   "id": "b67419c4-cbda-438f-9e64-e0280837660a",
   "metadata": {},
   "source": [
    "## WHERE\n",
    "- filter with both text and numeric\n",
    "- uses comparison opperators such as (= ,<,>)\n",
    "- for multiple \"where\" use the \"AND\" opperator"
   ]
  },
  {
   "cell_type": "code",
   "execution_count": 14,
   "id": "68911e69-07b1-4cca-85ad-4ec7f1e4cf0b",
   "metadata": {},
   "outputs": [
    {
     "name": "stdout",
     "output_type": "stream",
     "text": [
      " * sqlite:///chinook.db\n",
      "Done.\n"
     ]
    },
    {
     "data": {
      "text/html": [
       "<table>\n",
       "    <thead>\n",
       "        <tr>\n",
       "            <th>Name</th>\n",
       "        </tr>\n",
       "    </thead>\n",
       "    <tbody>\n",
       "        <tr>\n",
       "            <td>For Those About To Rock (We Salute You)</td>\n",
       "        </tr>\n",
       "        <tr>\n",
       "            <td>Put The Finger On You</td>\n",
       "        </tr>\n",
       "        <tr>\n",
       "            <td>Let&#x27;s Get It Up</td>\n",
       "        </tr>\n",
       "        <tr>\n",
       "            <td>Inject The Venom</td>\n",
       "        </tr>\n",
       "        <tr>\n",
       "            <td>Snowballed</td>\n",
       "        </tr>\n",
       "    </tbody>\n",
       "</table>"
      ],
      "text/plain": [
       "[('For Those About To Rock (We Salute You)',),\n",
       " ('Put The Finger On You',),\n",
       " (\"Let's Get It Up\",),\n",
       " ('Inject The Venom',),\n",
       " ('Snowballed',)]"
      ]
     },
     "execution_count": 14,
     "metadata": {},
     "output_type": "execute_result"
    }
   ],
   "source": [
    "%%sql\n",
    "\n",
    "SELECT name\n",
    "from tracks\n",
    "where composer = 'Angus Young, Malcolm Young, Brian Johnson'\n",
    "limit 5"
   ]
  },
  {
   "cell_type": "markdown",
   "id": "c018e48e-d561-4b13-a299-0349483fbd38",
   "metadata": {},
   "source": [
    "## WHERE/OR\n",
    "- use the \"OR\" opperator when the query only requires one of the conditions to be met\n"
   ]
  },
  {
   "cell_type": "code",
   "execution_count": 18,
   "id": "02a369e1-3108-41c9-9c54-5d203d53f251",
   "metadata": {},
   "outputs": [
    {
     "name": "stdout",
     "output_type": "stream",
     "text": [
      " * sqlite:///chinook.db\n",
      "Done.\n"
     ]
    },
    {
     "data": {
      "text/html": [
       "<table>\n",
       "    <thead>\n",
       "        <tr>\n",
       "            <th>Composer</th>\n",
       "        </tr>\n",
       "    </thead>\n",
       "    <tbody>\n",
       "        <tr>\n",
       "            <td>Angus Young, Malcolm Young, Brian Johnson</td>\n",
       "        </tr>\n",
       "    </tbody>\n",
       "</table>"
      ],
      "text/plain": [
       "[('Angus Young, Malcolm Young, Brian Johnson',)]"
      ]
     },
     "execution_count": 18,
     "metadata": {},
     "output_type": "execute_result"
    }
   ],
   "source": [
    "%%sql\n",
    "select composer\n",
    "from tracks\n",
    "where name = 'Put The Finger On You' or name = 'Fast As A Shark'"
   ]
  },
  {
   "cell_type": "markdown",
   "id": "97c223d7-75c2-4c1d-aa29-1c93c496d1a4",
   "metadata": {},
   "source": [
    "## BETWEEN\n",
    "- use between to select the range between the conditions"
   ]
  },
  {
   "cell_type": "code",
   "execution_count": 20,
   "id": "f9765ced-7993-44b1-800a-a0714f28202c",
   "metadata": {},
   "outputs": [
    {
     "name": "stdout",
     "output_type": "stream",
     "text": [
      " * sqlite:///chinook.db\n",
      "Done.\n"
     ]
    },
    {
     "data": {
      "text/html": [
       "<table>\n",
       "    <thead>\n",
       "        <tr>\n",
       "            <th>Name</th>\n",
       "        </tr>\n",
       "    </thead>\n",
       "    <tbody>\n",
       "        <tr>\n",
       "            <td>Restless and Wild</td>\n",
       "        </tr>\n",
       "        <tr>\n",
       "            <td>Evil Walks</td>\n",
       "        </tr>\n",
       "        <tr>\n",
       "            <td>Breaking The Rules</td>\n",
       "        </tr>\n",
       "        <tr>\n",
       "            <td>Spellbound</td>\n",
       "        </tr>\n",
       "        <tr>\n",
       "            <td>Bad Boy Boogie</td>\n",
       "        </tr>\n",
       "    </tbody>\n",
       "</table>"
      ],
      "text/plain": [
       "[('Restless and Wild',),\n",
       " ('Evil Walks',),\n",
       " ('Breaking The Rules',),\n",
       " ('Spellbound',),\n",
       " ('Bad Boy Boogie',)]"
      ]
     },
     "execution_count": 20,
     "metadata": {},
     "output_type": "execute_result"
    }
   ],
   "source": [
    "%%sql\n",
    "select name\n",
    "from tracks\n",
    "where milliseconds between 250000 and 300000\n",
    "limit 5"
   ]
  },
  {
   "cell_type": "markdown",
   "id": "5c333f4f-618f-415e-ab15-ad9c4ffa7a2b",
   "metadata": {},
   "source": [
    "## WHERE IN\n",
    "- where in allows us to quickly assign multiple OR conditions"
   ]
  },
  {
   "cell_type": "code",
   "execution_count": 27,
   "id": "c24bf916-19b2-4abc-badb-e1342e29f31e",
   "metadata": {},
   "outputs": [
    {
     "name": "stdout",
     "output_type": "stream",
     "text": [
      " * sqlite:///chinook.db\n",
      "Done.\n"
     ]
    },
    {
     "data": {
      "text/html": [
       "<table>\n",
       "    <thead>\n",
       "        <tr>\n",
       "            <th>FirstName</th>\n",
       "            <th>LastName</th>\n",
       "        </tr>\n",
       "    </thead>\n",
       "    <tbody>\n",
       "        <tr>\n",
       "            <td>Luís</td>\n",
       "            <td>Gonçalves</td>\n",
       "        </tr>\n",
       "        <tr>\n",
       "            <td>François</td>\n",
       "            <td>Tremblay</td>\n",
       "        </tr>\n",
       "        <tr>\n",
       "            <td>Eduardo</td>\n",
       "            <td>Martins</td>\n",
       "        </tr>\n",
       "        <tr>\n",
       "            <td>Alexandre</td>\n",
       "            <td>Rocha</td>\n",
       "        </tr>\n",
       "    </tbody>\n",
       "</table>"
      ],
      "text/plain": [
       "[('Luís', 'Gonçalves'),\n",
       " ('François', 'Tremblay'),\n",
       " ('Eduardo', 'Martins'),\n",
       " ('Alexandre', 'Rocha')]"
      ]
     },
     "execution_count": 27,
     "metadata": {},
     "output_type": "execute_result"
    }
   ],
   "source": [
    "%%sql\n",
    "\n",
    "select firstname , lastname\n",
    "from customers\n",
    "where state in ('SP' , 'QC')"
   ]
  },
  {
   "cell_type": "markdown",
   "id": "4b2a2091-0e8b-4b9e-be8f-24ecf04d1d27",
   "metadata": {},
   "source": [
    "## IS NULL\n",
    "- null is a missing or unknown value in sequel\n",
    "- can combine with \"WHERE\" for usefull results"
   ]
  },
  {
   "cell_type": "code",
   "execution_count": 29,
   "id": "e6dac9c9-eaa1-4d2a-b5d4-803fd86577fb",
   "metadata": {},
   "outputs": [
    {
     "name": "stdout",
     "output_type": "stream",
     "text": [
      " * sqlite:///chinook.db\n",
      "Done.\n"
     ]
    },
    {
     "data": {
      "text/html": [
       "<table>\n",
       "    <thead>\n",
       "        <tr>\n",
       "            <th>FirstName</th>\n",
       "            <th>LastName</th>\n",
       "        </tr>\n",
       "    </thead>\n",
       "    <tbody>\n",
       "        <tr>\n",
       "            <td>Leonie</td>\n",
       "            <td>Köhler</td>\n",
       "        </tr>\n",
       "        <tr>\n",
       "            <td>François</td>\n",
       "            <td>Tremblay</td>\n",
       "        </tr>\n",
       "        <tr>\n",
       "            <td>Bjørn</td>\n",
       "            <td>Hansen</td>\n",
       "        </tr>\n",
       "        <tr>\n",
       "            <td>Helena</td>\n",
       "            <td>Holý</td>\n",
       "        </tr>\n",
       "        <tr>\n",
       "            <td>Astrid</td>\n",
       "            <td>Gruber</td>\n",
       "        </tr>\n",
       "    </tbody>\n",
       "</table>"
      ],
      "text/plain": [
       "[('Leonie', 'Köhler'),\n",
       " ('François', 'Tremblay'),\n",
       " ('Bjørn', 'Hansen'),\n",
       " ('Helena', 'Holý'),\n",
       " ('Astrid', 'Gruber')]"
      ]
     },
     "execution_count": 29,
     "metadata": {},
     "output_type": "execute_result"
    }
   ],
   "source": [
    "%%sql\n",
    "\n",
    "SELECT firstname , lastname\n",
    "FROM customers\n",
    "WHERE fax IS NULL\n",
    "limit 5"
   ]
  },
  {
   "cell_type": "markdown",
   "id": "5ae202bc-838a-4c80-bdb5-4165f5e689d9",
   "metadata": {},
   "source": [
    "## LIKE/NOT LIKE\n",
    "- LIKE can be used in a WHERE clause to search for a pattern\n",
    "- we use the % Wildcard as a place holder for 0 one or many chars\n"
   ]
  },
  {
   "cell_type": "code",
   "execution_count": 32,
   "id": "130fba93-c5b4-4dea-8bfe-fb82669d0c35",
   "metadata": {},
   "outputs": [
    {
     "name": "stdout",
     "output_type": "stream",
     "text": [
      " * sqlite:///chinook.db\n",
      "Done.\n"
     ]
    },
    {
     "data": {
      "text/html": [
       "<table>\n",
       "    <thead>\n",
       "        <tr>\n",
       "            <th>LastName</th>\n",
       "        </tr>\n",
       "    </thead>\n",
       "    <tbody>\n",
       "        <tr>\n",
       "            <td>Hansen</td>\n",
       "        </tr>\n",
       "    </tbody>\n",
       "</table>"
      ],
      "text/plain": [
       "[('Hansen',)]"
      ]
     },
     "execution_count": 32,
     "metadata": {},
     "output_type": "execute_result"
    }
   ],
   "source": [
    "%%sql\n",
    "\n",
    "select lastname\n",
    "from customers\n",
    "where firstname like 'B%'\n",
    "limit 5"
   ]
  },
  {
   "cell_type": "markdown",
   "id": "bb9766c4-fc43-4fce-961b-a50f0e75fcf4",
   "metadata": {},
   "source": [
    "- _ Wildcard will match only a single char\n",
    "- this can be usefull for finding specific details\n",
    "- this example will only return emaails that have 3 chars after the ."
   ]
  },
  {
   "cell_type": "code",
   "execution_count": 34,
   "id": "2f2d8a6b-d916-43e3-922b-078196954546",
   "metadata": {},
   "outputs": [
    {
     "name": "stdout",
     "output_type": "stream",
     "text": [
      " * sqlite:///chinook.db\n",
      "Done.\n"
     ]
    },
    {
     "data": {
      "text/html": [
       "<table>\n",
       "    <thead>\n",
       "        <tr>\n",
       "            <th>FirstName</th>\n",
       "            <th>LastName</th>\n",
       "            <th>Email</th>\n",
       "        </tr>\n",
       "    </thead>\n",
       "    <tbody>\n",
       "        <tr>\n",
       "            <td>François</td>\n",
       "            <td>Tremblay</td>\n",
       "            <td>ftremblay@gmail.com</td>\n",
       "        </tr>\n",
       "        <tr>\n",
       "            <td>František</td>\n",
       "            <td>Wichterlová</td>\n",
       "            <td>frantisekw@jetbrains.com</td>\n",
       "        </tr>\n",
       "        <tr>\n",
       "            <td>Helena</td>\n",
       "            <td>Holý</td>\n",
       "            <td>hholy@gmail.com</td>\n",
       "        </tr>\n",
       "        <tr>\n",
       "            <td>Frank</td>\n",
       "            <td>Harris</td>\n",
       "            <td>fharris@google.com</td>\n",
       "        </tr>\n",
       "        <tr>\n",
       "            <td>Jack</td>\n",
       "            <td>Smith</td>\n",
       "            <td>jacksmith@microsoft.com</td>\n",
       "        </tr>\n",
       "    </tbody>\n",
       "</table>"
      ],
      "text/plain": [
       "[('François', 'Tremblay', 'ftremblay@gmail.com'),\n",
       " ('František', 'Wichterlová', 'frantisekw@jetbrains.com'),\n",
       " ('Helena', 'Holý', 'hholy@gmail.com'),\n",
       " ('Frank', 'Harris', 'fharris@google.com'),\n",
       " ('Jack', 'Smith', 'jacksmith@microsoft.com')]"
      ]
     },
     "execution_count": 34,
     "metadata": {},
     "output_type": "execute_result"
    }
   ],
   "source": [
    "%%sql\n",
    "\n",
    "select firstname , lastname , email\n",
    "from customers\n",
    "where email like '%.___'\n",
    "limit 5"
   ]
  },
  {
   "cell_type": "markdown",
   "id": "5fc80568-42da-470b-8ec7-af33489a2e36",
   "metadata": {},
   "source": [
    "## AGERGATE FUNCTION\n",
    " - avg (calculates the average)\n",
    " - max (returns the maximum value)\n",
    " - min (returns the minimum value)\n",
    " - sum (returns total of adding up all cells)"
   ]
  },
  {
   "cell_type": "code",
   "execution_count": 36,
   "id": "90861c00-71bc-43dc-b0fd-21339025bf72",
   "metadata": {},
   "outputs": [
    {
     "name": "stdout",
     "output_type": "stream",
     "text": [
      " * sqlite:///chinook.db\n",
      "Done.\n"
     ]
    },
    {
     "data": {
      "text/html": [
       "<table>\n",
       "    <thead>\n",
       "        <tr>\n",
       "            <th>avg(milliseconds)</th>\n",
       "        </tr>\n",
       "    </thead>\n",
       "    <tbody>\n",
       "        <tr>\n",
       "            <td>393599.2121039109</td>\n",
       "        </tr>\n",
       "    </tbody>\n",
       "</table>"
      ],
      "text/plain": [
       "[(393599.2121039109,)]"
      ]
     },
     "execution_count": 36,
     "metadata": {},
     "output_type": "execute_result"
    }
   ],
   "source": [
    "%%sql\n",
    "Select avg(milliseconds)\n",
    "from tracks"
   ]
  },
  {
   "cell_type": "code",
   "execution_count": 37,
   "id": "8a26d437-d6a9-493f-8e53-d4b27ee16f49",
   "metadata": {},
   "outputs": [
    {
     "name": "stdout",
     "output_type": "stream",
     "text": [
      " * sqlite:///chinook.db\n",
      "Done.\n"
     ]
    },
    {
     "data": {
      "text/html": [
       "<table>\n",
       "    <thead>\n",
       "        <tr>\n",
       "            <th>sum(milliseconds)</th>\n",
       "        </tr>\n",
       "    </thead>\n",
       "    <tbody>\n",
       "        <tr>\n",
       "            <td>1378778040</td>\n",
       "        </tr>\n",
       "    </tbody>\n",
       "</table>"
      ],
      "text/plain": [
       "[(1378778040,)]"
      ]
     },
     "execution_count": 37,
     "metadata": {},
     "output_type": "execute_result"
    }
   ],
   "source": [
    "%%sql\n",
    "select sum(milliseconds)\n",
    "from tracks"
   ]
  },
  {
   "cell_type": "code",
   "execution_count": 39,
   "id": "a282e702-486c-4e40-ae3a-42e198954cb3",
   "metadata": {},
   "outputs": [
    {
     "name": "stdout",
     "output_type": "stream",
     "text": [
      " * sqlite:///chinook.db\n",
      "Done.\n"
     ]
    },
    {
     "data": {
      "text/html": [
       "<table>\n",
       "    <thead>\n",
       "        <tr>\n",
       "            <th>min(milliseconds)</th>\n",
       "        </tr>\n",
       "    </thead>\n",
       "    <tbody>\n",
       "        <tr>\n",
       "            <td>1071</td>\n",
       "        </tr>\n",
       "    </tbody>\n",
       "</table>"
      ],
      "text/plain": [
       "[(1071,)]"
      ]
     },
     "execution_count": 39,
     "metadata": {},
     "output_type": "execute_result"
    }
   ],
   "source": [
    "%%sql\n",
    "select min(milliseconds)\n",
    "from tracks"
   ]
  },
  {
   "cell_type": "code",
   "execution_count": 40,
   "id": "e33e1d37-05f5-4506-a22d-44ac8b094c2b",
   "metadata": {},
   "outputs": [
    {
     "name": "stdout",
     "output_type": "stream",
     "text": [
      " * sqlite:///chinook.db\n",
      "Done.\n"
     ]
    },
    {
     "data": {
      "text/html": [
       "<table>\n",
       "    <thead>\n",
       "        <tr>\n",
       "            <th>max(milliseconds)</th>\n",
       "        </tr>\n",
       "    </thead>\n",
       "    <tbody>\n",
       "        <tr>\n",
       "            <td>5286953</td>\n",
       "        </tr>\n",
       "    </tbody>\n",
       "</table>"
      ],
      "text/plain": [
       "[(5286953,)]"
      ]
     },
     "execution_count": 40,
     "metadata": {},
     "output_type": "execute_result"
    }
   ],
   "source": [
    "%%sql\n",
    "select max(milliseconds)\n",
    "from tracks"
   ]
  },
  {
   "cell_type": "markdown",
   "id": "0dce76c3-6937-4a30-a1a3-bbbe6c5b79b5",
   "metadata": {},
   "source": [
    "## ALIASING ---- AS\n",
    "- use AS to assign a shorthand to a cell"
   ]
  },
  {
   "cell_type": "code",
   "execution_count": 41,
   "id": "9034ad0f-215f-4bb7-b9ae-3f06ed5af488",
   "metadata": {},
   "outputs": [
    {
     "name": "stdout",
     "output_type": "stream",
     "text": [
      " * sqlite:///chinook.db\n",
      "Done.\n"
     ]
    },
    {
     "data": {
      "text/html": [
       "<table>\n",
       "    <thead>\n",
       "        <tr>\n",
       "            <th>n</th>\n",
       "            <th>l</th>\n",
       "        </tr>\n",
       "    </thead>\n",
       "    <tbody>\n",
       "        <tr>\n",
       "            <td>Luís</td>\n",
       "            <td>Gonçalves</td>\n",
       "        </tr>\n",
       "        <tr>\n",
       "            <td>Leonie</td>\n",
       "            <td>Köhler</td>\n",
       "        </tr>\n",
       "        <tr>\n",
       "            <td>François</td>\n",
       "            <td>Tremblay</td>\n",
       "        </tr>\n",
       "        <tr>\n",
       "            <td>Bjørn</td>\n",
       "            <td>Hansen</td>\n",
       "        </tr>\n",
       "        <tr>\n",
       "            <td>František</td>\n",
       "            <td>Wichterlová</td>\n",
       "        </tr>\n",
       "    </tbody>\n",
       "</table>"
      ],
      "text/plain": [
       "[('Luís', 'Gonçalves'),\n",
       " ('Leonie', 'Köhler'),\n",
       " ('François', 'Tremblay'),\n",
       " ('Bjørn', 'Hansen'),\n",
       " ('František', 'Wichterlová')]"
      ]
     },
     "execution_count": 41,
     "metadata": {},
     "output_type": "execute_result"
    }
   ],
   "source": [
    "%%sql\n",
    "select firstname AS n , Lastname AS l\n",
    "from customers\n",
    "limit 5"
   ]
  },
  {
   "cell_type": "markdown",
   "id": "c0d3457b-1913-4564-8847-68c3f8818f88",
   "metadata": {},
   "source": [
    "## ORDER BY\n",
    "- orders the data in asceding order \n",
    "- can reverse order with DESC "
   ]
  },
  {
   "cell_type": "code",
   "execution_count": 48,
   "id": "c7b64fca-c44f-4f4f-96c9-5ee06606d056",
   "metadata": {},
   "outputs": [
    {
     "name": "stdout",
     "output_type": "stream",
     "text": [
      " * sqlite:///chinook.db\n",
      "Done.\n"
     ]
    },
    {
     "data": {
      "text/html": [
       "<table>\n",
       "    <thead>\n",
       "        <tr>\n",
       "            <th>City</th>\n",
       "            <th>FirstName</th>\n",
       "            <th>LastName</th>\n",
       "        </tr>\n",
       "    </thead>\n",
       "    <tbody>\n",
       "        <tr>\n",
       "            <td>Yellowknife</td>\n",
       "            <td>Ellie</td>\n",
       "            <td>Sullivan</td>\n",
       "        </tr>\n",
       "        <tr>\n",
       "            <td>Winnipeg</td>\n",
       "            <td>Aaron</td>\n",
       "            <td>Mitchell</td>\n",
       "        </tr>\n",
       "        <tr>\n",
       "            <td>Warsaw</td>\n",
       "            <td>Stanisław</td>\n",
       "            <td>Wójcik</td>\n",
       "        </tr>\n",
       "        <tr>\n",
       "            <td>Vienne</td>\n",
       "            <td>Astrid</td>\n",
       "            <td>Gruber</td>\n",
       "        </tr>\n",
       "        <tr>\n",
       "            <td>Vancouver</td>\n",
       "            <td>Jennifer</td>\n",
       "            <td>Peterson</td>\n",
       "        </tr>\n",
       "        <tr>\n",
       "            <td>Tucson</td>\n",
       "            <td>Patrick</td>\n",
       "            <td>Gray</td>\n",
       "        </tr>\n",
       "        <tr>\n",
       "            <td>Toronto</td>\n",
       "            <td>Robert</td>\n",
       "            <td>Brown</td>\n",
       "        </tr>\n",
       "        <tr>\n",
       "            <td>São Paulo</td>\n",
       "            <td>Eduardo</td>\n",
       "            <td>Martins</td>\n",
       "        </tr>\n",
       "        <tr>\n",
       "            <td>São Paulo</td>\n",
       "            <td>Alexandre</td>\n",
       "            <td>Rocha</td>\n",
       "        </tr>\n",
       "        <tr>\n",
       "            <td>São José dos Campos</td>\n",
       "            <td>Luís</td>\n",
       "            <td>Gonçalves</td>\n",
       "        </tr>\n",
       "    </tbody>\n",
       "</table>"
      ],
      "text/plain": [
       "[('Yellowknife', 'Ellie', 'Sullivan'),\n",
       " ('Winnipeg', 'Aaron', 'Mitchell'),\n",
       " ('Warsaw', 'Stanisław', 'Wójcik'),\n",
       " ('Vienne', 'Astrid', 'Gruber'),\n",
       " ('Vancouver', 'Jennifer', 'Peterson'),\n",
       " ('Tucson', 'Patrick', 'Gray'),\n",
       " ('Toronto', 'Robert', 'Brown'),\n",
       " ('São Paulo', 'Eduardo', 'Martins'),\n",
       " ('São Paulo', 'Alexandre', 'Rocha'),\n",
       " ('São José dos Campos', 'Luís', 'Gonçalves')]"
      ]
     },
     "execution_count": 48,
     "metadata": {},
     "output_type": "execute_result"
    }
   ],
   "source": [
    "%%sql\n",
    "select city , firstname , lastname\n",
    "from customers\n",
    "order by city desc\n",
    "limit 10"
   ]
  },
  {
   "cell_type": "markdown",
   "id": "f2d90c68-2039-43e8-b0ea-19bbd5b4cd56",
   "metadata": {},
   "source": [
    "- can sort multiple cloums at a time BUT it will sort in the order that you have queried it"
   ]
  },
  {
   "cell_type": "code",
   "execution_count": 49,
   "id": "41d6eb30-dfb9-42bc-ac3f-bc465982da88",
   "metadata": {},
   "outputs": [
    {
     "name": "stdout",
     "output_type": "stream",
     "text": [
      " * sqlite:///chinook.db\n",
      "Done.\n"
     ]
    },
    {
     "data": {
      "text/html": [
       "<table>\n",
       "    <thead>\n",
       "        <tr>\n",
       "            <th>City</th>\n",
       "            <th>FirstName</th>\n",
       "            <th>LastName</th>\n",
       "        </tr>\n",
       "    </thead>\n",
       "    <tbody>\n",
       "        <tr>\n",
       "            <td>Yellowknife</td>\n",
       "            <td>Ellie</td>\n",
       "            <td>Sullivan</td>\n",
       "        </tr>\n",
       "        <tr>\n",
       "            <td>Winnipeg</td>\n",
       "            <td>Aaron</td>\n",
       "            <td>Mitchell</td>\n",
       "        </tr>\n",
       "        <tr>\n",
       "            <td>Warsaw</td>\n",
       "            <td>Stanisław</td>\n",
       "            <td>Wójcik</td>\n",
       "        </tr>\n",
       "        <tr>\n",
       "            <td>Vienne</td>\n",
       "            <td>Astrid</td>\n",
       "            <td>Gruber</td>\n",
       "        </tr>\n",
       "        <tr>\n",
       "            <td>Vancouver</td>\n",
       "            <td>Jennifer</td>\n",
       "            <td>Peterson</td>\n",
       "        </tr>\n",
       "        <tr>\n",
       "            <td>Tucson</td>\n",
       "            <td>Patrick</td>\n",
       "            <td>Gray</td>\n",
       "        </tr>\n",
       "        <tr>\n",
       "            <td>Toronto</td>\n",
       "            <td>Robert</td>\n",
       "            <td>Brown</td>\n",
       "        </tr>\n",
       "        <tr>\n",
       "            <td>São Paulo</td>\n",
       "            <td>Alexandre</td>\n",
       "            <td>Rocha</td>\n",
       "        </tr>\n",
       "        <tr>\n",
       "            <td>São Paulo</td>\n",
       "            <td>Eduardo</td>\n",
       "            <td>Martins</td>\n",
       "        </tr>\n",
       "        <tr>\n",
       "            <td>São José dos Campos</td>\n",
       "            <td>Luís</td>\n",
       "            <td>Gonçalves</td>\n",
       "        </tr>\n",
       "    </tbody>\n",
       "</table>"
      ],
      "text/plain": [
       "[('Yellowknife', 'Ellie', 'Sullivan'),\n",
       " ('Winnipeg', 'Aaron', 'Mitchell'),\n",
       " ('Warsaw', 'Stanisław', 'Wójcik'),\n",
       " ('Vienne', 'Astrid', 'Gruber'),\n",
       " ('Vancouver', 'Jennifer', 'Peterson'),\n",
       " ('Tucson', 'Patrick', 'Gray'),\n",
       " ('Toronto', 'Robert', 'Brown'),\n",
       " ('São Paulo', 'Alexandre', 'Rocha'),\n",
       " ('São Paulo', 'Eduardo', 'Martins'),\n",
       " ('São José dos Campos', 'Luís', 'Gonçalves')]"
      ]
     },
     "execution_count": 49,
     "metadata": {},
     "output_type": "execute_result"
    }
   ],
   "source": [
    "%%sql\n",
    "select city , firstname , lastname\n",
    "from customers\n",
    "order by city desc , firstname \n",
    "limit 10\n"
   ]
  },
  {
   "cell_type": "markdown",
   "id": "f398a320-1550-434a-a8b9-89868e1ad566",
   "metadata": {},
   "source": [
    "- see how Alexandre and Eduardo have switch postions"
   ]
  },
  {
   "cell_type": "markdown",
   "id": "23de59e1-cc7e-4e11-b794-324bfa82ee76",
   "metadata": {},
   "source": [
    "## GROUP BY \n",
    " - allows sorting of data\n",
    " - commonly used with AGGREGATE functions\n",
    " - always goes after the FROM statement"
   ]
  },
  {
   "cell_type": "code",
   "execution_count": 53,
   "id": "b0bf2aa7-89c9-4991-8e1a-bdb4d3c0b30a",
   "metadata": {},
   "outputs": [
    {
     "name": "stdout",
     "output_type": "stream",
     "text": [
      " * sqlite:///chinook.db\n",
      "Done.\n"
     ]
    },
    {
     "data": {
      "text/html": [
       "<table>\n",
       "    <thead>\n",
       "        <tr>\n",
       "            <th>State</th>\n",
       "            <th>count(*)</th>\n",
       "        </tr>\n",
       "    </thead>\n",
       "    <tbody>\n",
       "        <tr>\n",
       "            <td>None</td>\n",
       "            <td>29</td>\n",
       "        </tr>\n",
       "        <tr>\n",
       "            <td>AB</td>\n",
       "            <td>1</td>\n",
       "        </tr>\n",
       "        <tr>\n",
       "            <td>AZ</td>\n",
       "            <td>1</td>\n",
       "        </tr>\n",
       "        <tr>\n",
       "            <td>BC</td>\n",
       "            <td>1</td>\n",
       "        </tr>\n",
       "        <tr>\n",
       "            <td>CA</td>\n",
       "            <td>3</td>\n",
       "        </tr>\n",
       "    </tbody>\n",
       "</table>"
      ],
      "text/plain": [
       "[(None, 29), ('AB', 1), ('AZ', 1), ('BC', 1), ('CA', 3)]"
      ]
     },
     "execution_count": 53,
     "metadata": {},
     "output_type": "execute_result"
    }
   ],
   "source": [
    "%%sql\n",
    "select state, count(*)\n",
    "from customers\n",
    "group by state\n",
    "limit 5"
   ]
  },
  {
   "cell_type": "markdown",
   "id": "b2ba9e6e-21b8-431d-8f66-efeb973900bc",
   "metadata": {},
   "source": [
    "## HAVING\n",
    " - AGGREGATE functions CANNOT be used in a WHERE clause\n",
    " - Filtering with an AGGREGATE function in done by using HAVING"
   ]
  },
  {
   "cell_type": "code",
   "execution_count": 65,
   "id": "3a2b5183-9ce5-4695-8534-3b7d808b8d1e",
   "metadata": {},
   "outputs": [
    {
     "name": "stdout",
     "output_type": "stream",
     "text": [
      " * sqlite:///chinook.db\n",
      "Done.\n"
     ]
    },
    {
     "data": {
      "text/html": [
       "<table>\n",
       "    <thead>\n",
       "        <tr>\n",
       "            <th>Milliseconds</th>\n",
       "        </tr>\n",
       "    </thead>\n",
       "    <tbody>\n",
       "        <tr>\n",
       "            <td>240091</td>\n",
       "        </tr>\n",
       "    </tbody>\n",
       "</table>"
      ],
      "text/plain": [
       "[(240091,)]"
      ]
     },
     "execution_count": 65,
     "metadata": {},
     "output_type": "execute_result"
    }
   ],
   "source": [
    "%%sql\n",
    "select  milliseconds\n",
    "from tracks\n",
    "group by milliseconds\n",
    "having count(name) > 3"
   ]
  },
  {
   "cell_type": "markdown",
   "id": "8eee8f43-4072-4459-95b5-f43989314c86",
   "metadata": {},
   "source": [
    "- this code shows us that there are 4 or more songs that are 240091 milliseconds long"
   ]
  },
  {
   "cell_type": "markdown",
   "id": "ff509112-22a4-4362-bbb0-cad790ff9987",
   "metadata": {},
   "source": [
    "## Creating a Table\n",
    "CREATE TABLE table_name ( \\\n",
    "    column_name data type \\\n",
    "    );"
   ]
  },
  {
   "cell_type": "code",
   "execution_count": 39,
   "id": "47a7a71e-3a34-459e-8990-c030bf9c9ec7",
   "metadata": {},
   "outputs": [
    {
     "name": "stdout",
     "output_type": "stream",
     "text": [
      " * sqlite:///chinook.db\n",
      "Done.\n",
      "Done.\n"
     ]
    },
    {
     "data": {
      "text/html": [
       "<table>\n",
       "    <thead>\n",
       "        <tr>\n",
       "            <th>firstname</th>\n",
       "            <th>lastname</th>\n",
       "            <th>job</th>\n",
       "        </tr>\n",
       "    </thead>\n",
       "    <tbody>\n",
       "    </tbody>\n",
       "</table>"
      ],
      "text/plain": [
       "[]"
      ]
     },
     "execution_count": 39,
     "metadata": {},
     "output_type": "execute_result"
    }
   ],
   "source": [
    "%%sql\n",
    "create table test2(\n",
    "    firstname text,\n",
    "    lastname text,\n",
    "    job text\n",
    ");\n",
    "\n",
    "select * \n",
    "from test"
   ]
  },
  {
   "cell_type": "markdown",
   "id": "6be53e91-a3a8-492a-8e81-64d1d8dc5f44",
   "metadata": {},
   "source": [
    "## Altering a Table\n",
    "ALTER TABLE table_name\n",
    "    ADD COLUMN column_name data_type"
   ]
  },
  {
   "cell_type": "code",
   "execution_count": 40,
   "id": "4f77f3cf-dda8-4245-aaf2-01663bfee320",
   "metadata": {},
   "outputs": [
    {
     "name": "stdout",
     "output_type": "stream",
     "text": [
      " * sqlite:///chinook.db\n",
      "Done.\n",
      "Done.\n"
     ]
    },
    {
     "data": {
      "text/html": [
       "<table>\n",
       "    <thead>\n",
       "        <tr>\n",
       "            <th>firstname</th>\n",
       "            <th>lastname</th>\n",
       "            <th>job</th>\n",
       "            <th>location</th>\n",
       "        </tr>\n",
       "    </thead>\n",
       "    <tbody>\n",
       "    </tbody>\n",
       "</table>"
      ],
      "text/plain": [
       "[]"
      ]
     },
     "execution_count": 40,
     "metadata": {},
     "output_type": "execute_result"
    }
   ],
   "source": [
    "%%sql\n",
    "alter table test2\n",
    "add location text ;\n",
    "    \n",
    "    \n",
    "select * \n",
    "from test2"
   ]
  },
  {
   "cell_type": "markdown",
   "id": "3aa10f67-ce0d-4ff3-9ccf-fb6e3ff2c475",
   "metadata": {},
   "source": [
    "## Rename & Drop\n",
    "- Renaming a column \\\n",
    " ALTER TABLE table_name\\\n",
    "RENAME COLUMN old_name TO new_nam"
   ]
  },
  {
   "cell_type": "code",
   "execution_count": 41,
   "id": "4419af3a-463b-402c-b55c-1b7387bce27d",
   "metadata": {},
   "outputs": [
    {
     "name": "stdout",
     "output_type": "stream",
     "text": [
      " * sqlite:///chinook.db\n",
      "Done.\n",
      "Done.\n"
     ]
    },
    {
     "data": {
      "text/html": [
       "<table>\n",
       "    <thead>\n",
       "        <tr>\n",
       "            <th>firstname</th>\n",
       "            <th>lastname</th>\n",
       "            <th>occupation</th>\n",
       "            <th>location</th>\n",
       "        </tr>\n",
       "    </thead>\n",
       "    <tbody>\n",
       "    </tbody>\n",
       "</table>"
      ],
      "text/plain": [
       "[]"
      ]
     },
     "execution_count": 41,
     "metadata": {},
     "output_type": "execute_result"
    }
   ],
   "source": [
    "%%sql\n",
    "alter table test2\n",
    "rename column job to occupation;\n",
    "\n",
    "select * \n",
    "from test2;\n"
   ]
  },
  {
   "cell_type": "markdown",
   "id": "06c980c6-c11d-4db6-84bf-0aba2eba60df",
   "metadata": {},
   "source": [
    "- Dropping a column \\\n",
    "ALTER TABLE table_name \\\n",
    "DROP COLUMN column_name;\n"
   ]
  },
  {
   "cell_type": "code",
   "execution_count": 43,
   "id": "92a3381f-86f1-4379-a018-8c390b4fdaf5",
   "metadata": {},
   "outputs": [
    {
     "name": "stdout",
     "output_type": "stream",
     "text": [
      " * sqlite:///chinook.db\n",
      "Done.\n",
      "Done.\n",
      "Done.\n"
     ]
    },
    {
     "data": {
      "text/html": [
       "<table>\n",
       "    <thead>\n",
       "        <tr>\n",
       "            <th>firstname</th>\n",
       "            <th>lastname</th>\n",
       "        </tr>\n",
       "    </thead>\n",
       "    <tbody>\n",
       "    </tbody>\n",
       "</table>"
      ],
      "text/plain": [
       "[]"
      ]
     },
     "execution_count": 43,
     "metadata": {},
     "output_type": "execute_result"
    }
   ],
   "source": [
    "%%sql\n",
    "alter table test2\n",
    "drop column location;\n",
    "\n",
    "alter table test2\n",
    "drop column occupation;\n",
    "\n",
    "select *\n",
    "from test2\n"
   ]
  },
  {
   "cell_type": "markdown",
   "id": "fa292bae-20df-4479-9916-b125bf363ad2",
   "metadata": {},
   "source": [
    "## Insert Into\n",
    "INSERT INTO table_name \\\n",
    "SELECT DISTINCT Column_name_a , column_name_b \\\n",
    "FROM table_name ;"
   ]
  },
  {
   "cell_type": "code",
   "execution_count": 44,
   "id": "c3c875c0-fff9-41c7-911f-867474bb9016",
   "metadata": {},
   "outputs": [
    {
     "name": "stdout",
     "output_type": "stream",
     "text": [
      " * sqlite:///chinook.db\n",
      "59 rows affected.\n",
      "Done.\n"
     ]
    },
    {
     "data": {
      "text/html": [
       "<table>\n",
       "    <thead>\n",
       "        <tr>\n",
       "            <th>firstname</th>\n",
       "            <th>lastname</th>\n",
       "        </tr>\n",
       "    </thead>\n",
       "    <tbody>\n",
       "        <tr>\n",
       "            <td>Luís</td>\n",
       "            <td>Gonçalves</td>\n",
       "        </tr>\n",
       "        <tr>\n",
       "            <td>Leonie</td>\n",
       "            <td>Köhler</td>\n",
       "        </tr>\n",
       "        <tr>\n",
       "            <td>François</td>\n",
       "            <td>Tremblay</td>\n",
       "        </tr>\n",
       "        <tr>\n",
       "            <td>Bjørn</td>\n",
       "            <td>Hansen</td>\n",
       "        </tr>\n",
       "        <tr>\n",
       "            <td>František</td>\n",
       "            <td>Wichterlová</td>\n",
       "        </tr>\n",
       "    </tbody>\n",
       "</table>"
      ],
      "text/plain": [
       "[('Luís', 'Gonçalves'),\n",
       " ('Leonie', 'Köhler'),\n",
       " ('François', 'Tremblay'),\n",
       " ('Bjørn', 'Hansen'),\n",
       " ('František', 'Wichterlová')]"
      ]
     },
     "execution_count": 44,
     "metadata": {},
     "output_type": "execute_result"
    }
   ],
   "source": [
    "%%sql \n",
    "insert into test2\n",
    "select distinct firstname , lastname\n",
    "from customers;\n",
    "\n",
    "select *\n",
    "from test2\n",
    "limit 5;"
   ]
  },
  {
   "cell_type": "code",
   "execution_count": null,
   "id": "2d5d232e-a0ec-4159-a0b9-898108437c10",
   "metadata": {},
   "outputs": [],
   "source": []
  }
 ],
 "metadata": {
  "kernelspec": {
   "display_name": "Python 3",
   "language": "python",
   "name": "python3"
  },
  "language_info": {
   "codemirror_mode": {
    "name": "ipython",
    "version": 3
   },
   "file_extension": ".py",
   "mimetype": "text/x-python",
   "name": "python",
   "nbconvert_exporter": "python",
   "pygments_lexer": "ipython3",
   "version": "3.8.8"
  }
 },
 "nbformat": 4,
 "nbformat_minor": 5
}
